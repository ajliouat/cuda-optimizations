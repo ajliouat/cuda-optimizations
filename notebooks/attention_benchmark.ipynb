{
 "cells": [
  {
   "cell_type": "code",
   "execution_count": null,
   "metadata": {},
   "outputs": [],
   "source": [
    "# Example: Benchmark attention kernel\n",
    "import torch\n",
    "from src.python.cuda_ops import attention\n",
    "\n",
    "# Define input tensors\n",
    "batch_size, seq_len, num_heads, head_dim = 32, 128, 8, 64\n",
    "query = torch.randn(batch_size, seq_len, num_heads, head_dim, device=\"cuda\")\n",
    "key = torch.randn_like(query)\n",
    "value = torch.randn_like(query)\n",
    "\n",
    "# Run attention kernel\n",
    "output = attention(query, key, value)\n",
    "\n",
    "# Print output shape\n",
    "print(output.shape)"
   ]
  }
 ],
 "metadata": {
  "language_info": {
   "name": "python"
  }
 },
 "nbformat": 4,
 "nbformat_minor": 2
}
