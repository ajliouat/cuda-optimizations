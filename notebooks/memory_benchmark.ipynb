{
 "cells": [
  {
   "cell_type": "code",
   "execution_count": null,
   "metadata": {},
   "outputs": [],
   "source": [
    "# Example: Benchmark memory optimization kernel\n",
    "import torch\n",
    "from src.python.cuda_ops import memory_optimization\n",
    "\n",
    "# Define input tensor\n",
    "input_tensor = torch.randn(1024 * 1024, device=\"cuda\")\n",
    "\n",
    "# Run memory optimization kernel\n",
    "output = memory_optimization(input_tensor)\n",
    "\n",
    "# Print output shape\n",
    "print(output.shape)"
   ]
  }
 ],
 "metadata": {
  "language_info": {
   "name": "python"
  }
 },
 "nbformat": 4,
 "nbformat_minor": 2
}
